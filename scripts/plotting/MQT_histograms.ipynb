{
 "cells": [
  {
   "cell_type": "code",
   "execution_count": null,
   "metadata": {
    "collapsed": true
   },
   "outputs": [],
   "source": [
    "import netCDF4 as nc\n",
    "import numpy as np\n",
    "import datetime\n",
    "import matplotlib.pyplot as plt\n",
    "from matplotlib.dates import DateFormatter\n",
    "import matplotlib.dates as mdates\n",
    "import matplotlib.cm as cm\n",
    "import sys\n",
    "import glob\n",
    "\n",
    "sys.path.insert(1, '/home/jrichter/python/mqt/py_files')\n",
    "from pip_tools_original_JackCopy import open_dist_data\n",
    "from histogram import *\n",
    "%matplotlib inline"
   ]
  },
  {
   "cell_type": "code",
   "execution_count": null,
   "metadata": {},
   "outputs": [],
   "source": [
    "AR_vvd_hist, AR_vvd_norm = make_vvd_histogram(\"/home/jrichter/python/mqt/txt_files/MQT_ARs_Snow.txt\")\n",
    "Deep_vvd_hist, Deep_vvd_norm = make_vvd_histogram(\"/home/jrichter/python/mqt/txt_files/Deep_NoAR_list.txt\")\n",
    "#AR_ENE_vvd_hist, AR_ENE_vvd_norm = make_vvd_histogram(\"/home/jrichter/python/mqt/txt_files/ENE_AR.txt\")\n",
    "#AR_S_vvd_hist, AR_S_vvd_norm = make_vvd_histogram(\"/home/jrichter/python/mqt/txt_files/S_AR.txt\")\n",
    "#Deep_ENE_vvd_hist, Deep_ENE_vvd_norm = make_vvd_histogram(\"/home/jrichter/python/mqt/txt_files/Deep_NoAR_ENE.txt\")\n",
    "#Deep_S_vvd_hist, Deep_S_vvd_norm = make_vvd_histogram(\"/home/jrichter/python/mqt/txt_files/Deep_NoAR_S.txt\")"
   ]
  },
  {
   "cell_type": "code",
   "execution_count": null,
   "metadata": {},
   "outputs": [],
   "source": [
    "AR_eden_hist, AR_eden_norm = make_eden_histogram(\"/home/jrichter/python/mqt/txt_files/MQT_ARs_Snow.txt\")\n",
    "Deep_eden_hist, Deep_eden_norm = make_eden_histogram(\"/home/jrichter/python/mqt/txt_files/Deep_NoAR_list.txt\")\n",
    "#AR_ENE_eden_hist, AR_ENE_eden_norm = make_eden_histogram(\"/home/jrichter/python/mqt/txt_files/ENE_AR.txt\")\n",
    "#AR_S_eden_hist, AR_S_eden_norm = make_eden_histogram(\"/home/jrichter/python/mqt/txt_files/S_AR.txt\")\n",
    "#Deep_ENE_eden_hist, Deep_ENE_eden_norm = make_eden_histogram(\"/home/jrichter/python/mqt/txt_files/Deep_NoAR_ENE.txt\")\n",
    "#Deep_S_eden_hist, Deep_S_eden_norm = make_eden_histogram(\"/home/jrichter/python/mqt/txt_files/Deep_NoAR_S.txt\")"
   ]
  },
  {
   "cell_type": "code",
   "execution_count": null,
   "metadata": {
    "collapsed": true
   },
   "outputs": [],
   "source": [
    "bin_VVD = np.arange(0.1,3.1,0.1) \n",
    "bin_D = np.arange(0.4,26.2,0.2)"
   ]
  },
  {
   "cell_type": "code",
   "execution_count": null,
   "metadata": {
    "scrolled": false
   },
   "outputs": [],
   "source": [
    "plot_2D_hist(AR_vvd_hist.T, bin_D, bin_VVD, \"MQT AR PIP VVD Histogram\", \"VVD [m/s]\", \"Mean Diameter (mm)\", (0.4,6.0), (0.1,2.0), 'viridis', \"MQT_vvd_AR_Histogram.png\")\n",
    "plot_2D_hist(Deep_vvd_hist.T, bin_D, bin_VVD, \"MQT No-AR PIP VVD Histogram\", \"VVD [m/s]\", \"Mean Diameter (mm)\", (0.4,6.0), (0.1,2.0), 'viridis', \"MQT_vvd_No-AR_Histogram.png\")\n",
    "#plot_2D_hist(AR_ENE_vvd_hist.T, bin_D, bin_VVD, \"MQT AR Over-Lake PIP VVD Histogram\", \"VVD [m/s]\", \"Mean Diameter (mm)\", (0.4,10), (0,3), \"MQT_vvd_AR_ENE_Histogram.png\")\n",
    "#plot_2D_hist(AR_S_vvd_hist.T, bin_D, bin_VVD, \"MQT AR Over-Land PIP VVD Histogram\", \"VVD [m/s]\", \"Mean Diameter (mm)\", (0.4,10), (0,3), \"MQT_vvd_AR_S_Histogram.png\")\n",
    "#plot_2D_hist(Deep_ENE_vvd_hist.T, bin_D, bin_VVD, \"MQT No-AR Over-Lake PIP VVD Histogram\", \"VVD [m/s]\", \"Mean Diameter (mm)\", (0.4,10), (0,3), \"MQT_vvd_No-AR_ENE_Histogram.png\")\n",
    "#plot_2D_hist(Deep_S_vvd_hist.T, bin_D, bin_VVD, \"MQT No-AR Over-Land PIP VVD Histogram\", \"VVD [m/s]\", \"Mean Diameter (mm)\", (0.4,10), (0,3), \"MQT_vvd_No-AR_S_Histogram.png\")"
   ]
  },
  {
   "cell_type": "code",
   "execution_count": null,
   "metadata": {},
   "outputs": [],
   "source": [
    "plot_2D_norm((AR_vvd_norm-Deep_vvd_norm).T, bin_D, bin_VVD, \"MQT AR-NoAR Fall Speed Histogram\", \"Fall Speed (m $s^{-1}$)\", \"Mean Diamter (mm)\", (0.4,10), (0.1,3), -.6, .6, \"MQT_FallSpeed_Diff_Histogram.png\")\n",
    "#plot_2D_norm((AR_ENE_vvd_norm-AR_S_vvd_norm).T, bin_D, bin_VVD, \"MQT AR (Over-Lake)-(Over-Land) VVD Histogram\", \"VVD [m/s]\", \"Mean Diamter (mm)\", (0.4,10), (0,3), -.5, .5, \"MQT_VVD_Wind_Diff_Histogram.png\")\n",
    "#plot_2D_norm((Deep_ENE_vvd_norm-Deep_S_vvd_norm).T, bin_D, bin_VVD, \"MQT No-AR (Over-Lake)-(Over-Land) VVD Histogram\", \"VVD [m/s]\", \"Mean Diamter (mm)\", (0.4,10), (0,3), -.5, .5, \"MQT_VVD_Deep_Diff_Histogram.png\")"
   ]
  },
  {
   "cell_type": "code",
   "execution_count": null,
   "metadata": {
    "collapsed": true
   },
   "outputs": [],
   "source": [
    "bin_eden = np.arange(0.01,1.01,0.01)    \n",
    "bin_D = np.arange(0.4,26.2,0.2)"
   ]
  },
  {
   "cell_type": "code",
   "execution_count": null,
   "metadata": {
    "scrolled": false
   },
   "outputs": [],
   "source": [
    "plot_2D_hist(AR_eden_hist.T, bin_D, bin_eden, \"MQT AR PIP eDensity Histogram\", \"eDensity\", \"Mean Diameter (mm)\", (0.4,6), (0.01,0.4), 'viridis', \"MQT_eden_AR_Histogram.png\")\n",
    "plot_2D_hist(Deep_eden_hist.T, bin_D, bin_eden, \"MQT No-AR PIP eDensity Histogram\", \"eDensity\", \"Mean Diameter (mm)\", (0.4,6), (0.01,0.4), 'viridis', \"MQT_eden_No-AR_Histogram.png\")\n",
    "#plot_2D_hist(AR_ENE_eden_hist.T, bin_D, bin_eden, \"MQT AR Over-Lake PIP eDensity Histogram\", \"eDensity\", \"Mean Diameter (mm)\", (0.4,10), (0,1), \"MQT_eden_AR_ENE_Histogram.png\")\n",
    "#plot_2D_hist(AR_S_eden_hist.T, bin_D, bin_eden, \"MQT AR Over-Land PIP eDensity Histogram\", \"eDensity\", \"Mean Diameter (mm)\", (0.4,10), (0,1), \"MQT_eden_AR_S_Histogram.png\")\n",
    "#plot_2D_hist(Deep_ENE_eden_hist.T, bin_D, bin_eden, \"MQT No-AR Over-Lake PIP eDensity Histogram\", \"eDensity\", \"Mean Diameter (mm)\", (0.4,10), (0,1), \"MQT_eden_No-AR_ENE_Histogram.png\")\n",
    "#plot_2D_hist(Deep_S_eden_hist.T, bin_D, bin_eden, \"MQT No-AR Over-Land PIP eDensity Histogram\", \"eDensity\", \"Mean Diameter (mm)\", (0.4,10), (0,1), \"MQT_eden_No-AR_S_Histogram.png\")"
   ]
  },
  {
   "cell_type": "code",
   "execution_count": null,
   "metadata": {},
   "outputs": [],
   "source": [
    "plot_2D_norm(AR_eden_norm.T-Deep_eden_norm.T, bin_D, bin_eden, \"MQT AR-NoAR Effective Density Histogram\", \"Effective Density (g $cm^{-3}$)\", \"Mean Diamter (mm)\", (0.4,10), (0.01,.4),-.5, .5, \"MQT_eden_Diff_Histogram.png\")\n",
    "#plot_2D_norm(AR_ENE_eden_norm.T-AR_S_eden_norm.T, bin_D, bin_eden, \"MQT AR (Over-Lake)-(Over-Land) eDensity Histogram\", \"eDensity\", \"Mean Diamter (mm)\", (0.4,10), (0,1),-1, 1, \"MQT_eden_Wind_Diff_Histogram.png\")\n",
    "#plot_2D_norm(Deep_ENE_eden_norm.T-Deep_S_eden_norm.T, bin_D, bin_eden, \"MQT No-AR (Over-Lake)-(Over-Land) eDensity Histogram\", \"eDensity\", \"Mean Diamter (mm)\", (0.4,10), (0,1),-1, 1, \"MQT_eden_Deep_Diff_Histogram.png\")"
   ]
  },
  {
   "cell_type": "code",
   "execution_count": null,
   "metadata": {},
   "outputs": [],
   "source": [
    "AR_psd_hist, AR_psd_norm = make_PSD_histogram(\"/home/jrichter/python/mqt/txt_files/MQT_ARs_Snow.txt\")\n",
    "Deep_psd_hist, Deep_psd_norm = make_PSD_histogram(\"/home/jrichter/python/mqt/txt_files/Deep_NoAR_list.txt\")\n",
    "#AR_ENE_psd_hist, AR_ENE_psd_norm = make_PSD_histogram(\"/home/jrichter/python/mqt/txt_files/ENE_AR.txt\")\n",
    "#AR_S_psd_hist, AR_S_psd_norm = make_PSD_histogram(\"/home/jrichter/python/mqt/txt_files/S_AR.txt\")\n",
    "#Deep_ENE_psd_hist, Deep_ENE_psd_norm = make_PSD_histogram(\"/home/jrichter/python/mqt/txt_files/Deep_NoAR_ENE.txt\")\n",
    "#Deep_S_psd_hist, Deep_S_psd_norm = make_PSD_histogram(\"/home/jrichter/python/mqt/txt_files/Deep_NoAR_S.txt\")"
   ]
  },
  {
   "cell_type": "code",
   "execution_count": null,
   "metadata": {
    "collapsed": true
   },
   "outputs": [],
   "source": [
    "bin_DSD = np.linspace(.001,5,54) \n",
    "bin_D = np.arange(0.4,26.2,0.2)"
   ]
  },
  {
   "cell_type": "code",
   "execution_count": null,
   "metadata": {
    "scrolled": false
   },
   "outputs": [],
   "source": [
    "plot_2D_hist(AR_psd_hist.T, bin_D, bin_DSD, \"MQT AR PIP PSD Histogram\", \"Log PSD ($mm^{-3}$ $mm^{-1}$)\", \"Mean Diameter (mm)\", (0.4,15), (0,5), 'viridis', \"MQT_PSD_AR_Histogram.png\")\n",
    "plot_2D_hist(Deep_psd_hist.T, bin_D, bin_DSD, \"MQT No-AR PIP PSD Histogram\", \"Log PSD ($mm^{-3}$ $mm^{-1}$)\", \"Mean Diameter (mm)\", (0.4,15), (0,5), 'viridis', \"MQT_PSD_No-AR_Histogram.png\")\n",
    "#plot_2D_hist(AR_ENE_psd_hist.T, bin_D, bin_DSD, \"MQT AR Over-Lake PIP PSD Histogram\", \"Log PSD (mm^-3 mm^-1)\", \"Mean Diameter (mm)\", (0.4,15), (0,5), \"MQT_PSD_AR_ENE_Histogram.png\")\n",
    "#plot_2D_hist(AR_S_psd_hist.T, bin_D, bin_DSD, \"MQT AR Over-Land PIP PSD Histogram\", \"Log PSD (mm^-3 mm^-1)\", \"Mean Diameter (mm)\", (0.4,15), (0,5), \"MQT_PSD_AR_S_Histogram.png\")\n",
    "#plot_2D_hist(Deep_ENE_psd_hist.T, bin_D, bin_DSD, \"MQT No-AR Over-Lake PIP PSD Histogram\", \"Log PSD (mm^-3 mm^-1)\", \"Mean Diameter (mm)\", (0.4,15), (0,5), \"MQT_PSD_No-AR_ENE_Histogram.png\")\n",
    "#plot_2D_hist(Deep_S_psd_hist.T, bin_D, bin_DSD, \"MQT No-AR Over-Land PIP PSD Histogram\", \"Log PSD (mm^-3 mm^-1)\", \"Mean Diameter (mm)\", (0.4,15), (0,5), \"MQT_PSD_No-AR_S_Histogram.png\")"
   ]
  },
  {
   "cell_type": "code",
   "execution_count": null,
   "metadata": {},
   "outputs": [],
   "source": [
    "plot_2D_norm(AR_psd_norm.T-Deep_psd_norm.T, bin_D, bin_DSD, \"MQT AR-NoAR PSD Histogram\", \"$Log_{10}$(PSD) ($m^{-3}$ $mm^{-1}$)\", \"Mean Diamter (mm)\", (0.4,10), (0,5), -.3, .3, \"MQT_PSD_Diff_Histogram.png\")\n",
    "#plot_2D_norm(AR_ENE_psd_norm.T-AR_S_psd_norm.T, bin_D, bin_DSD, \"MQT AR (Over-Lake)-(Over-Land) PSD Histogram\", \"Log PSD (mm^-3 mm^-1)\", \"Mean Diamter (mm)\", (0.4,15), (0,5), -1, 1, \"MQT_PSD_Wind_Diff_Histogram.png\")\n",
    "#plot_2D_norm(Deep_ENE_psd_norm.T-Deep_S_psd_norm.T, bin_D, bin_DSD, \"MQT No-AR (Over-Lake)-(Over-Land) PSD Histogram\", \"Log PSD (mm^-3 mm^-1)\", \"Mean Diamter (mm)\", (0.4,15), (0,5), -1, 1, \"MQT_PSD_Deep_Diff_Histogram.png\")"
   ]
  },
  {
   "cell_type": "code",
   "execution_count": null,
   "metadata": {
    "collapsed": true
   },
   "outputs": [],
   "source": [
    "def make_MRR_histograms(filename):\n",
    "    \n",
    "    file_events = open(filename, \"r\")\n",
    "    datadir = '/data/LakeEffect/MRR/NetCDF_DN/'\n",
    "\n",
    "    counter = 0\n",
    "    for event in file_events:\n",
    "        args = event.strip().split(\",\")\n",
    "        length_range = int(int(args[1]) - int(args[0])) + 1\n",
    "        if (args[2].strip() != \"None\"):\n",
    "            cut_1 = convert(args[2])\n",
    "        else:\n",
    "            cut_1 = None\n",
    "        if (args[3].strip() != \"None\"):\n",
    "            cut_2 = convert(args[3])\n",
    "        else:\n",
    "            cut_2 = None\n",
    "        \n",
    "        MRR_dict = {}\n",
    "        if (length_range == 2):\n",
    "            for i in range(length_range):\n",
    "                MRR_dict[\"MRR_filename_{}\".format(i)] = 'MRR_NWS_MQT_' + str(int(args[0]) + i) + '_snow.nc'\n",
    "                MRR_dict[\"f_MRR_{}\".format(i)] = nc.Dataset(MRR_datadir + MRR_dict[\"MRR_filename_{}\".format(i)], 'r')\n",
    "                MRR_dict[\"ze_{}\".format(i)] = MRR_dict[\"f_MRR_{}\".format(i)]['Ze'][:]\n",
    "                MRR_dict[\"W_{}\".format(i)] = MRR_dict[\"f_MRR_{}\".format(i)]['W'][:]\n",
    "                MRR_dict[\"SW_{}\".format(i)] = MRR_dict[\"f_MRR_{}\".format(i)]['spectralWidth'][:]\n",
    "                heightvar = MRR_dict[\"f_MRR_{}\".format(i)]['height'][0]\n",
    "                MRR_dict[\"timevar_{}\".format(i)] = nc.num2date(MRR_dict[\"f_MRR_{}\".format(i)]['time'][:], MRR_dict[\"f_MRR_{}\".format(i)]['time'].units)\n",
    "                MRR_dict[\"yearmonthday_{}\".format(i)] = MRR_dict[\"timevar_{}\".format(i)][0].strftime(\"%Y%m%d\")\n",
    "            total_reflectivity = np.ma.concatenate((MRR_dict[\"ze_{}\".format(0)], MRR_dict[\"ze_{}\".format(1)]))\n",
    "            total_W = np.ma.concatenate((MRR_dict[\"W_{}\".format(0)], MRR_dict[\"W_{}\".format(1)]))\n",
    "            total_SW = np.ma.concatenate((MRR_dict[\"SW_{}\".format(0)], MRR_dict[\"SW_{}\".format(1)]))\n",
    "            total_timevar = np.ma.concatenate((MRR_dict[\"timevar_{}\".format(0)], MRR_dict[\"timevar_{}\".format(1)]))\n",
    "            if (cut_2 != None):\n",
    "                ze = total_reflectivity[:int((1440*length_range)-(1440*cut_2))]\n",
    "                W = total_W[:int((1440*length_range)-(1440*cut_2))]\n",
    "                SW = total_SW[:int((1440*length_range)-(1440*cut_2))]\n",
    "                timevar = total_timevar[:int((1440*length_range)-(1440*cut_2))]\n",
    "            if (cut_1 != None):\n",
    "                ze = total_reflectivity[int(1440*cut_1):]\n",
    "                W = total_W[int(1440*cut_1):]\n",
    "                SW = total_SW[int(1440*cut_1):]\n",
    "                timevar = total_timevar[int(1440*cut_1):]\n",
    "        else:\n",
    "            MRR_datadir = '/data/LakeEffect/MRR/NetCDF_DN/'\n",
    "            MRR_filename = 'MRR_NWS_MQT_' + str(args[0]) + '_snow.nc'\n",
    "            f_MRR = nc.Dataset(MRR_datadir + MRR_filename, 'r')\n",
    "            ze = f_MRR['Ze'][:]\n",
    "            W = f_MRR[\"W\"][:]\n",
    "            SW = f_MRR[\"spectralWidth\"][:]\n",
    "            heightvar = f_MRR['height'][0]\n",
    "            timevar = nc.num2date(f_MRR['time'][:], f_MRR['time'].units)\n",
    "            yearmonthday = timevar[0].strftime(\"%Y%m%d\")\n",
    "            if (cut_2 != None):\n",
    "                ze = ze[:int((1440)-(1440*cut_2))]\n",
    "                W = W[:int((1440)-(1440*cut_2))]\n",
    "                SW = SW[:int((1440)-(1440*cut_2))]\n",
    "                timevar = timevar[:int((1440)-(1440*cut_2))]\n",
    "            if (cut_1 != None):\n",
    "                ze = ze[int(1440*cut_1):]\n",
    "                W = W[int(1440*cut_1):]\n",
    "                SW = SW[int(1440*cut_1):]\n",
    "                timevar = timevar[int(1440*cut_1):]\n",
    "        \n",
    "        if (counter == 0):\n",
    "            total_ze = ze\n",
    "            total_W = W\n",
    "            total_SW = SW\n",
    "            print(len(total_ze), len(total_W), len(total_SW))\n",
    "        else:\n",
    "            total_ze = np.ma.concatenate([total_ze, ze])\n",
    "            total_W = np.ma.concatenate([total_W, W])\n",
    "            total_SW = np.ma.concatenate([total_SW, SW])\n",
    "            print(len(total_ze), len(total_W), len(total_SW))\n",
    "    \n",
    "        counter += 1\n",
    "    \n",
    "        continue\n",
    "    \n",
    "    file_events.close()\n",
    "    \n",
    "    # 2D histogram code\n",
    "    h=np.ones((len(total_ze),31))*heightvar[:]/1000. \n",
    "    h_bins = np.linspace(0.050, 3.150, 32)\n",
    "    z_bins=np.linspace(-10,30,41)\n",
    "    w = np.ones((len(total_W),31))*heightvar[:]/1000.\n",
    "    w_bins=np.linspace(-3,3,61)\n",
    "    sw=np.ones((len(total_SW),31))*heightvar[:]/1000\n",
    "    sw_bins=np.linspace(0,1.5,61)\n",
    "    ze_hist = np.histogram2d(total_ze.flatten(), h.flatten(), (z_bins, h_bins),normed=False) \n",
    "    ze_hist_norm = ze_hist[0]/float(ze_hist[0].sum())\n",
    "    w_hist = np.histogram2d(total_W.flatten(), w.flatten(), (w_bins, h_bins),normed=False) \n",
    "    w_hist_norm = w_hist[0]/float(w_hist[0].sum())\n",
    "    sw_hist = np.histogram2d(total_SW.flatten(), sw.flatten(), (sw_bins, h_bins),normed=False)\n",
    "    sw_hist_norm = sw_hist[0]/float(sw_hist[0].sum())\n",
    "    \n",
    "    return ze_hist[0], ze_hist_norm, w_hist[0], w_hist_norm, sw_hist[0], sw_hist_norm\n",
    "        "
   ]
  },
  {
   "cell_type": "code",
   "execution_count": null,
   "metadata": {
    "collapsed": true
   },
   "outputs": [],
   "source": [
    "AR_ze_hist, AR_ze_hist_norm, AR_w_hist, AR_w_hist_norm, AR_sw_hist, AR_sw_hist_norm = make_MRR_histograms(\"/home/jrichter/python/mqt/txt_files/MQT_ARs_Snow.txt\")"
   ]
  },
  {
   "cell_type": "code",
   "execution_count": null,
   "metadata": {
    "collapsed": true
   },
   "outputs": [],
   "source": [
    "Deep_ze_hist, Deep_ze_hist_norm, Deep_w_hist, Deep_w_hist_norm, Deep_sw_hist, Deep_sw_hist_norm = make_MRR_histograms(\"/home/jrichter/python/mqt/txt_files/Deep_NoAR_list.txt\")"
   ]
  },
  {
   "cell_type": "code",
   "execution_count": null,
   "metadata": {
    "collapsed": true
   },
   "outputs": [],
   "source": [
    "bin_h = np.linspace(0.050, 3.150, 32)\n",
    "bin_z = np.linspace(-10,30,41)\n",
    "\n",
    "plot_2D_norm((AR_ze_hist_norm - Deep_ze_hist_norm), bin_z, bin_h, \"MQT AR-NoAR Ze Histogram\", \"Height AGL (km)\", \"Effective Reflectivity (dBz)\", (-10,30), (0.4, 3.0), -0.3, 0.3, \"MQT_Ze_Diff_Histogram.png\")"
   ]
  },
  {
   "cell_type": "code",
   "execution_count": null,
   "metadata": {
    "collapsed": true
   },
   "outputs": [],
   "source": [
    "#h_bins = np.linspace(0.050, 3.150, 32)\n",
    "#z_bins=np.linspace(-10,30,41)"
   ]
  },
  {
   "cell_type": "code",
   "execution_count": null,
   "metadata": {
    "collapsed": true
   },
   "outputs": [],
   "source": [
    "#h_bins = np.linspace(0.050, 3.150, 32)\n",
    "#w_bins=np.linspace(-3,3,61)\n"
   ]
  },
  {
   "cell_type": "code",
   "execution_count": null,
   "metadata": {
    "collapsed": true,
    "scrolled": false
   },
   "outputs": [],
   "source": [
    "#sw_bins=np.linspace(0,1.5,61)"
   ]
  },
  {
   "cell_type": "code",
   "execution_count": null,
   "metadata": {
    "collapsed": true
   },
   "outputs": [],
   "source": [
    "#f.variables[\"level\"][:]"
   ]
  },
  {
   "cell_type": "code",
   "execution_count": null,
   "metadata": {
    "collapsed": true
   },
   "outputs": [],
   "source": [
    "# 2D histogram code\n",
    "#bin_DSD = np.linspace(.001,5,54)    \n",
    "#bin_D = np.arange(.4,26,.2)\n",
    "#bin_D = np.linspace(0,25,130)\n",
    "\n",
    "#bin_edge_4bins = np.ones((np.shape(total_dsdperminute)))*PIP_dict[\"bin_edge_0\"]\n",
    "\n",
    "#pip_hist_Deep = np.histogram2d(np.ma.log10(total_dsdperminute).flatten(), bin_edge_4bins.flatten(), (bin_DSD,bin_D),normed=False) "
   ]
  },
  {
   "cell_type": "code",
   "execution_count": null,
   "metadata": {
    "collapsed": true
   },
   "outputs": [],
   "source": [
    "ze_hist_586, ze_hist_586_norm, w_hist_586, w_hist_586_norm, sw_hist_586, sw_hist_586_norm = make_MRR_histograms('/home/jrichter/python/mqt/txt_files/586_LES_events.txt')\n"
   ]
  },
  {
   "cell_type": "code",
   "execution_count": null,
   "metadata": {
    "collapsed": true
   },
   "outputs": [],
   "source": [
    "ze_hist_586.shape"
   ]
  },
  {
   "cell_type": "code",
   "execution_count": null,
   "metadata": {
    "collapsed": true
   },
   "outputs": [],
   "source": [
    "print(\"Starting function...\")\n",
    "file_events = open('/home/jrichter/python/mqt/txt_files/586_LES_events.txt', \"r\")\n",
    "datadir = '/data/LakeEffect/MRR/NetCDF_DN/'\n",
    "\n",
    "counter = 0\n",
    "for event in file_events:\n",
    "    args = event.strip().split(\",\")\n",
    "    length_range = int(int(args[1]) - int(args[0])) + 1\n",
    "    if (args[2].strip() != \"None\"):\n",
    "        cut_1 = convert(args[2])\n",
    "    else:\n",
    "        cut_1 = None\n",
    "    if (args[3].strip() != \"None\"):\n",
    "        cut_2 = convert(args[3])\n",
    "    else:\n",
    "        cut_2 = None\n",
    "\n",
    "    MRR_dict = {}\n",
    "    if (length_range == 2):\n",
    "        for i in range(length_range):\n",
    "            MRR_dict[\"MRR_filename_{}\".format(i)] = 'MRR_NWS_MQT_' + str(int(args[0]) + i) + '_snow.nc'\n",
    "            MRR_dict[\"f_MRR_{}\".format(i)] = nc.Dataset(MRR_datadir + MRR_dict[\"MRR_filename_{}\".format(i)], 'r')\n",
    "            MRR_dict[\"ze_{}\".format(i)] = MRR_dict[\"f_MRR_{}\".format(i)]['Ze'][:]\n",
    "            MRR_dict[\"W_{}\".format(i)] = MRR_dict[\"f_MRR_{}\".format(i)]['W'][:]\n",
    "            MRR_dict[\"SW_{}\".format(i)] = MRR_dict[\"f_MRR_{}\".format(i)]['spectralWidth'][:]\n",
    "            heightvar = MRR_dict[\"f_MRR_{}\".format(i)]['height'][0]\n",
    "            MRR_dict[\"timevar_{}\".format(i)] = nc.num2date(MRR_dict[\"f_MRR_{}\".format(i)]['time'][:], MRR_dict[\"f_MRR_{}\".format(i)]['time'].units)\n",
    "            MRR_dict[\"yearmonthday_{}\".format(i)] = MRR_dict[\"timevar_{}\".format(i)][0].strftime(\"%Y%m%d\")\n",
    "        total_reflectivity = np.ma.concatenate((MRR_dict[\"ze_{}\".format(0)], MRR_dict[\"ze_{}\".format(1)]))\n",
    "        total_w = np.ma.concatenate((MRR_dict[\"W_{}\".format(0)], MRR_dict[\"W_{}\".format(1)]))\n",
    "        total_sw = np.ma.concatenate((MRR_dict[\"SW_{}\".format(0)], MRR_dict[\"SW_{}\".format(1)]))\n",
    "        total_timevar = np.ma.concatenate((MRR_dict[\"timevar_{}\".format(0)], MRR_dict[\"timevar_{}\".format(1)]))\n",
    "        if (cut_2 != None):\n",
    "            ze = total_reflectivity[:int((1440*length_range)-(1440*cut_2))]\n",
    "            W = total_w[:int((1440*length_range)-(1440*cut_2))]\n",
    "            SW = total_sw[:int((1440*length_range)-(1440*cut_2))]\n",
    "            timevar = total_timevar[:int((1440*length_range)-(1440*cut_2))]\n",
    "        if (cut_1 != None):\n",
    "            ze = total_reflectivity[int(1440*cut_1):]\n",
    "            W = total_w[int(1440*cut_1):]\n",
    "            SW = total_sw[int(1440*cut_1):]\n",
    "            timevar = total_timevar[int(1440*cut_1):]\n",
    "    else:\n",
    "        MRR_datadir = '/data/LakeEffect/MRR/NetCDF_DN/'\n",
    "        MRR_filename = 'MRR_NWS_MQT_' + str(args[0]) + '_snow.nc'\n",
    "        f_MRR = nc.Dataset(MRR_datadir + MRR_filename, 'r')\n",
    "        ze = f_MRR['Ze'][:]\n",
    "        W = f_MRR[\"W\"][:]\n",
    "        SW = f_MRR[\"spectralWidth\"][:]\n",
    "        heightvar = f_MRR['height'][0]\n",
    "        timevar = nc.num2date(f_MRR['time'][:], f_MRR['time'].units)\n",
    "        yearmonthday = timevar[0].strftime(\"%Y%m%d\")\n",
    "        if (cut_2 != None):\n",
    "            ze = ze[:int((1440)-(1440*cut_2))]\n",
    "            W = W[:int((1440)-(1440*cut_2))]\n",
    "            SW = SW[:int((1440)-(1440*cut_2))]\n",
    "            timevar = timevar[:int((1440)-(1440*cut_2))]\n",
    "        if (cut_1 != None):\n",
    "            ze = ze[int(1440*cut_1):]\n",
    "            W = W[int(1440*cut_1):]\n",
    "            SW = SW[int(1440*cut_1):]\n",
    "            timevar = timevar[int(1440*cut_1):]\n",
    "\n",
    "    if (counter == 0):\n",
    "        total_ze = ze\n",
    "        total_W = W\n",
    "        total_SW = SW\n",
    "        total_Timevar = timevar\n",
    "        #print(len(total_ze), len(total_W), len(total_SW))\n",
    "    else:\n",
    "        total_ze = np.ma.concatenate([total_ze, ze])\n",
    "        total_W = np.ma.concatenate([total_W, W])\n",
    "        total_SW = np.ma.concatenate([total_SW, SW])\n",
    "        total_Timevar = np.ma.concatenate([total_Timevar, timevar])\n",
    "        #print(len(total_ze), len(total_W), len(total_SW))\n",
    "\n",
    "    counter += 1\n",
    "\n",
    "    continue\n",
    "    \n",
    "file_events.close()\n",
    "\n",
    "# 2D histogram code\n",
    "h=np.ones((len(total_ze),31))*heightvar[:]/1000. \n",
    "h_bins = np.linspace(0.050, 3.150, 32)\n",
    "z_bins=np.linspace(-10,30,41)\n",
    "w = np.ones((len(total_W),31))*heightvar[:]/1000.\n",
    "w_bins=np.linspace(-3,3,61)\n",
    "sw=np.ones((len(total_SW),31))*heightvar[:]/1000\n",
    "sw_bins=np.linspace(0,1.5,61)\n",
    "ze_hist = np.histogram2d(total_ze.flatten(), h.flatten(), (z_bins, h_bins),normed=False) \n",
    "ze_hist_norm = ze_hist[0]/float(ze_hist[0].sum())\n",
    "w_hist = np.histogram2d(total_W.flatten(), w.flatten(), (w_bins, h_bins),normed=False) \n",
    "w_hist_norm = w_hist[0]/float(w_hist[0].sum())\n",
    "sw_hist = np.histogram2d(total_SW.flatten(), sw.flatten(), (sw_bins, h_bins),normed=False)\n",
    "sw_hist_norm = sw_hist[0]/float(sw_hist[0].sum())\n",
    "\n",
    "print(len(total_ze), len(total_W), len(total_SW), len(total_Timevar))\n",
    "print(np.shape(ze_hist), np.shape(w_hist), np.shape(sw_hist))"
   ]
  },
  {
   "cell_type": "code",
   "execution_count": null,
   "metadata": {
    "collapsed": true
   },
   "outputs": [],
   "source": [
    "plt.figure(figsize=(10,7), dpi=100)\n",
    "plt.pcolormesh(z_bins, h_bins, ze_hist[0].T, cmap=\"viridis\")\n",
    "plt.title(\"MQT LES Reflectivity Histogram\", size=20)\n",
    "plt.ylabel(\"Height AGL (km)\", size=14)\n",
    "plt.xlabel(\"Reflectivity (dBz)\", size=14)\n",
    "plt.xlim(-10, 30)\n",
    "plt.ylim(0.4, 3.0)\n",
    "cb = plt.colorbar(label = 'counts')\n",
    "cb.set_label(label=\"Counts\", size=14)\n",
    "plt.grid()\n",
    "#plt.savefig(\"/home/jrichter/python/mqt/\" + filename)\n",
    "#plt.savefig(\"/data/jrichter/mqt/Histograms/\" + filename)\n",
    "plt.show()"
   ]
  },
  {
   "cell_type": "code",
   "execution_count": null,
   "metadata": {
    "collapsed": true
   },
   "outputs": [],
   "source": [
    "datadir = '/data/LakeEffect/MRR/NetCDF_DN/'\n",
    "\n",
    "args = [\"20141112\", \"20141112\", \"None\", \"15/24\", \"0\", \"9\"]\n",
    "\n",
    "length_range = int(int(args[1]) - int(args[0])) + 1\n",
    "if (args[2].strip() != \"None\"):\n",
    "    cut_1 = convert(args[2])\n",
    "else:\n",
    "    cut_1 = None\n",
    "if (args[3].strip() != \"None\"):\n",
    "    cut_2 = convert(args[3])\n",
    "else:\n",
    "    cut_2 = None\n",
    "\n",
    "MRR_datadir = '/data/LakeEffect/MRR/NetCDF_DN/'\n",
    "MRR_filename = 'MRR_NWS_MQT_' + str(args[0]) + '_snow.nc'\n",
    "f_MRR = nc.Dataset(MRR_datadir + MRR_filename, 'r')\n",
    "ze = f_MRR['Ze'][:]\n",
    "W = f_MRR[\"W\"][:]\n",
    "SW = f_MRR[\"spectralWidth\"][:]\n",
    "heightvar = f_MRR['height'][0]\n",
    "timevar = nc.num2date(f_MRR['time'][:], f_MRR['time'].units)\n",
    "yearmonthday = timevar[0].strftime(\"%Y%m%d\")\n",
    "if (cut_2 != None):\n",
    "    ze = ze[:int((1440)-(1440*cut_2))]\n",
    "    W = W[:int((1440)-(1440*cut_2))]\n",
    "    SW = SW[:int((1440)-(1440*cut_2))]\n",
    "    timevar = timevar[:int((1440)-(1440*cut_2))]\n",
    "if (cut_1 != None):\n",
    "    ze = ze[int(1440*cut_1):]\n",
    "    W = W[int(1440*cut_1):]\n",
    "    SW = SW[int(1440*cut_1):]\n",
    "    timevar = timevar[int(1440*cut_1):]\n",
    "\n",
    "print(len(ze), len(W), len(SW), len(timevar))"
   ]
  },
  {
   "cell_type": "code",
   "execution_count": null,
   "metadata": {
    "collapsed": true
   },
   "outputs": [],
   "source": [
    "flat_ze_ex = []\n",
    "flat_time_ex = []\n",
    "i_array = []\n",
    "for i in range(len(ze)):\n",
    "    flat_ze_ex.append(ze[i,4])\n",
    "    flat_time_ex.append(timevar[i])\n",
    "    i_array.append(i)\n",
    "\n",
    "flat_ze_ex = np.convolve(flat_ze_ex, np.ones(5)/5, mode='valid')\n",
    "\n",
    "flat_ze_ex_i = []\n",
    "flat_time_ex_i = []\n",
    "i_array_i = []\n",
    "for i in range(len(flat_ze_ex)):\n",
    "    flat_ze_ex_i.append(flat_ze_ex[i])\n",
    "    i_array_i.append(i)\n",
    "    \n",
    "plt.figure(figsize=(12,6), dpi=150)\n",
    "\n",
    "plt.plot(i_array_i, flat_ze_ex_i)"
   ]
  },
  {
   "cell_type": "code",
   "execution_count": null,
   "metadata": {
    "collapsed": true
   },
   "outputs": [],
   "source": [
    "datadir = '/data/LakeEffect/MRR/NetCDF_DN/'\n",
    "\n",
    "args = [\"20150119\", \"20150119\", \"None\", \"1/24\", \"0\", \"23\"]\n",
    "\n",
    "length_range = int(int(args[1]) - int(args[0])) + 1\n",
    "if (args[2].strip() != \"None\"):\n",
    "    cut_1 = convert(args[2])\n",
    "else:\n",
    "    cut_1 = None\n",
    "if (args[3].strip() != \"None\"):\n",
    "    cut_2 = convert(args[3])\n",
    "else:\n",
    "    cut_2 = None\n",
    "\n",
    "MRR_datadir = '/data/LakeEffect/MRR/NetCDF_DN/'\n",
    "MRR_filename = 'MRR_NWS_MQT_' + str(args[0]) + '_snow.nc'\n",
    "f_MRR = nc.Dataset(MRR_datadir + MRR_filename, 'r')\n",
    "ze = f_MRR['Ze'][:]\n",
    "W = f_MRR[\"W\"][:]\n",
    "SW = f_MRR[\"spectralWidth\"][:]\n",
    "heightvar = f_MRR['height'][0]\n",
    "timevar = nc.num2date(f_MRR['time'][:], f_MRR['time'].units)\n",
    "yearmonthday = timevar[0].strftime(\"%Y%m%d\")\n",
    "if (cut_2 != None):\n",
    "    ze = ze[:int((1440)-(1440*cut_2))]\n",
    "    W = W[:int((1440)-(1440*cut_2))]\n",
    "    SW = SW[:int((1440)-(1440*cut_2))]\n",
    "    timevar = timevar[:int((1440)-(1440*cut_2))]\n",
    "if (cut_1 != None):\n",
    "    ze = ze[int(1440*cut_1):]\n",
    "    W = W[int(1440*cut_1):]\n",
    "    SW = SW[int(1440*cut_1):]\n",
    "    timevar = timevar[int(1440*cut_1):]\n",
    "\n",
    "print(len(ze), len(W), len(SW), len(timevar))"
   ]
  },
  {
   "cell_type": "code",
   "execution_count": null,
   "metadata": {
    "collapsed": true
   },
   "outputs": [],
   "source": [
    "flat_ze_ex = []\n",
    "flat_time_ex = []\n",
    "i_array = []\n",
    "for i in range(len(ze)):\n",
    "    if np.ma.is_masked(ze[i,4]):\n",
    "        ze[i,4] = -10.\n",
    "    flat_ze_ex.append(ze[i,4])\n",
    "    flat_time_ex.append(timevar[i])\n",
    "    i_array.append(i)\n",
    "\n",
    "flat_ze_ex = np.convolve(flat_ze_ex, np.ones(30)/30, mode='valid')\n",
    "\n",
    "flat_ze_ex_i = []\n",
    "flat_time_ex_i = []\n",
    "i_array_i = []\n",
    "for i in range(len(flat_ze_ex)):\n",
    "    flat_ze_ex_i.append(flat_ze_ex[i])\n",
    "    i_array_i.append(i)\n",
    "    \n",
    "plt.figure(figsize=(12,6), dpi=150)\n",
    "plt.title(\"19 January 2015 Ze Time-Series\", size=18)\n",
    "plt.ylabel(\"Reflectivity (dBz)\", size=14)\n",
    "plt.xlabel(\"Time From Start of Event (Minutes)\", size=14)\n",
    "plt.xlim(0,1350)\n",
    "plt.ylim(-6, 12)\n",
    "plt.margins(0.01)\n",
    "plt.plot(i_array_i, flat_ze_ex_i)"
   ]
  },
  {
   "cell_type": "code",
   "execution_count": null,
   "metadata": {
    "collapsed": true
   },
   "outputs": [],
   "source": [
    "flat_ze_586 = []\n",
    "flat_time_586 = []\n",
    "i_array = []\n",
    "for i in range(len(total_ze)):\n",
    "    flat_ze_586.append(total_ze[i,4])\n",
    "    flat_time_586.append(total_Timevar[i])\n",
    "    i_array.append(i)"
   ]
  },
  {
   "cell_type": "code",
   "execution_count": null,
   "metadata": {
    "collapsed": true
   },
   "outputs": [],
   "source": [
    "plt.figure(figsize=(12,6), dpi=150)\n",
    "\n",
    "plt.plot(i_array, flat_ze_586)"
   ]
  },
  {
   "cell_type": "code",
   "execution_count": null,
   "metadata": {
    "collapsed": true
   },
   "outputs": [],
   "source": [
    "plt.figure(figsize=(12,6), dpi=150)\n",
    "\n",
    "plt.plot(i_array[1200:1500], flat_ze_586[1200:1500])"
   ]
  },
  {
   "cell_type": "code",
   "execution_count": null,
   "metadata": {
    "collapsed": true
   },
   "outputs": [],
   "source": [
    "masked_number = 0\n",
    "for i in range(len(flat_ze_586)):\n",
    "    if np.ma.is_masked(flat_ze_586[i]):\n",
    "        masked_number += 1\n",
    "masked_number\n",
    "\n",
    "# what to do with these masked values --> I assume they are < -10 dBz"
   ]
  },
  {
   "cell_type": "code",
   "execution_count": null,
   "metadata": {
    "collapsed": true
   },
   "outputs": [],
   "source": []
  }
 ],
 "metadata": {
  "kernelspec": {
   "display_name": "Python 3",
   "language": "python",
   "name": "python3"
  },
  "language_info": {
   "codemirror_mode": {
    "name": "ipython",
    "version": 3
   },
   "file_extension": ".py",
   "mimetype": "text/x-python",
   "name": "python",
   "nbconvert_exporter": "python",
   "pygments_lexer": "ipython3",
   "version": "3.5.4"
  }
 },
 "nbformat": 4,
 "nbformat_minor": 2
}
